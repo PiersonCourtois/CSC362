{
 "cells": [
  {
   "cell_type": "code",
   "execution_count": 4,
   "id": "2851359d",
   "metadata": {},
   "outputs": [
    {
     "name": "stdout",
     "output_type": "stream",
     "text": [
      "(4,)\n",
      "4\n",
      "[0.21804046 0.51377992 0.03092755 0.68477926]\n"
     ]
    }
   ],
   "source": [
    "import numpy as np # One data type, think array\n",
    "a = np.zeros(4) # create array of four zeros. 1 Dimension\n",
    "print(a.shape) # Shape returns number of indeces. Only 1 dimension]\n",
    "print(a.shape[0]) # Returns the number horizontal size (tuple)\n",
    "c = np.random.random_sample(4) # Four random numbers between 0-1\n",
    "print(c)"
   ]
  },
  {
   "cell_type": "code",
   "execution_count": 5,
   "id": "00cf1059",
   "metadata": {},
   "outputs": [
    {
     "name": "stdout",
     "output_type": "stream",
     "text": [
      "[3 4 5 6 7]\n",
      "x_train is: [3 4 5 6 7]\n"
     ]
    }
   ],
   "source": [
    "x_train = np.array([3, 4, 5, 6, 7]) # Create an array and populate\n",
    "print(x_train)\n",
    "print(f\"x_train is: {x_train}\") # Like printf() in c"
   ]
  },
  {
   "cell_type": "code",
   "execution_count": 6,
   "id": "3cb95dec",
   "metadata": {},
   "outputs": [
    {
     "name": "stdout",
     "output_type": "stream",
     "text": [
      "[0 1 2 3 4 5 6 7 8 9]\n",
      "9\n",
      "9\n"
     ]
    }
   ],
   "source": [
    "d = np.arange(10)\n",
    "print(d)\n",
    "print(d[-1]) # Last element: shortcut for len(d - 1)\n",
    "print(d[9]) # Last element"
   ]
  },
  {
   "cell_type": "markdown",
   "id": "2bffea18",
   "metadata": {},
   "source": [
    "# Slicing arrays\n",
    "\n",
    "### (start:end:step)"
   ]
  },
  {
   "cell_type": "code",
   "execution_count": 7,
   "id": "11c9f9ca",
   "metadata": {},
   "outputs": [
    {
     "name": "stdout",
     "output_type": "stream",
     "text": [
      "[0 2 4 6]\n",
      "[3 4 5 6 7 8 9]\n",
      "[0 1 2 3 4 5 6 7 8 9]\n"
     ]
    }
   ],
   "source": [
    "print(d[0:8:2])\n",
    "print(d[3:])\n",
    "print(d[:])"
   ]
  },
  {
   "cell_type": "code",
   "execution_count": 8,
   "id": "303ae53f",
   "metadata": {},
   "outputs": [
    {
     "name": "stdout",
     "output_type": "stream",
     "text": [
      "[2 3 4 5 6]\n",
      "[ 6  9 12 15 18]\n",
      "[-2 -3 -4 -5 -6]\n",
      "20\n",
      "4.0\n",
      "1.4142135623730951\n"
     ]
    }
   ],
   "source": [
    "vec = np.array([2, 3, 4, 5, 6]) \n",
    "newVec = 3 * vec\n",
    "print(vec) # Original vector\n",
    "print(newVec) # Vector times 3\n",
    "print(-vec) # Negative vector\n",
    "print(np.sum(vec)) # Summation of vec\n",
    "print(np.mean(vec)) # Mean of vec\n",
    "print(np.std(vec)) # Standard deviation of vce"
   ]
  },
  {
   "cell_type": "code",
   "execution_count": 9,
   "id": "e6579f3e",
   "metadata": {},
   "outputs": [
    {
     "name": "stdout",
     "output_type": "stream",
     "text": [
      "[5 7 9]\n"
     ]
    }
   ],
   "source": [
    "a = np.array([1, 2, 3]) # Arrays must be the same size to do math for each\n",
    "b = np.array([4, 5, 6])\n",
    "\n",
    "c = a + b\n",
    "print(c)"
   ]
  },
  {
   "cell_type": "code",
   "execution_count": 10,
   "id": "81f1fc2b",
   "metadata": {},
   "outputs": [
    {
     "name": "stdout",
     "output_type": "stream",
     "text": [
      "[ 4 10 18]\n"
     ]
    }
   ],
   "source": [
    "c = a * b\n",
    "print(c)"
   ]
  },
  {
   "cell_type": "code",
   "execution_count": 11,
   "id": "f78969ea",
   "metadata": {},
   "outputs": [
    {
     "name": "stdout",
     "output_type": "stream",
     "text": [
      "250197.30789806513\n",
      "The shape of b vector is(1000000,)\n"
     ]
    }
   ],
   "source": [
    "a = np.random.rand(1000000) # two vectos with 1mil random vars\n",
    "b = np.random.rand(1000000)\n",
    "c = np.dot(a, b) # Multiply the two vectors (maybe summation as well? look into this)\n",
    "print(c)\n",
    "print(f'The shape of b vector is{b.shape}')\n",
    "\n",
    "\n"
   ]
  },
  {
   "cell_type": "code",
   "execution_count": 18,
   "id": "2ec6cc42",
   "metadata": {},
   "outputs": [
    {
     "name": "stdout",
     "output_type": "stream",
     "text": [
      "[[0.78895353 0.99713313 0.7769556  0.42149464 0.10992846]\n",
      " [0.5110456  0.10184123 0.00114213 0.02559992 0.06442974]\n",
      " [0.63980142 0.59624637 0.52660019 0.35617315 0.58700271]]\n",
      "The shape of two_d matrix is(3, 5)\n",
      "The shape of two_d[1] is 5\n",
      "Value of two_d[2][3] is 0.3561731503424018\n"
     ]
    }
   ],
   "source": [
    "two_d = np.random.random_sample((3,5)) # Fill 2D matrix with random values\n",
    "print(two_d)\n",
    "print(f'The shape of two_d matrix is{two_d.shape}')\n",
    "print(f'The shape of two_d[1] is {two_d.shape[1]}')\n",
    "print(f'Value of two_d[2][3] is {two_d[2][3]}')"
   ]
  },
  {
   "cell_type": "code",
   "execution_count": 22,
   "id": "5226164f",
   "metadata": {},
   "outputs": [
    {
     "name": "stdout",
     "output_type": "stream",
     "text": [
      "(8,)\n",
      "(2, 4)\n"
     ]
    }
   ],
   "source": [
    "z = np.arange(8)\n",
    "print(z.shape)\n",
    "zz = z.reshape(-1,4) # Reshape array into a 2D array with however needed rows and 4 columns\n",
    "                     # -1 symbolizes 'do the math for me'\n",
    "print(zz.shape)"
   ]
  },
  {
   "cell_type": "code",
   "execution_count": 24,
   "id": "67a9d0da",
   "metadata": {},
   "outputs": [
    {
     "name": "stdout",
     "output_type": "stream",
     "text": [
      "[[ 0  1  2  3  4  5  6  7  8  9]\n",
      " [10 11 12 13 14 15 16 17 18 19]]\n"
     ]
    }
   ],
   "source": [
    "arr = np.arange(20).reshape(-1, 10) # Another reshaping example\n",
    "print(arr)"
   ]
  },
  {
   "cell_type": "code",
   "execution_count": 27,
   "id": "47e0fbec",
   "metadata": {},
   "outputs": [
    {
     "name": "stdout",
     "output_type": "stream",
     "text": [
      "[2 3 4]\n",
      "[0 1 2 3 4 5 6 7 8 9]\n"
     ]
    }
   ],
   "source": [
    "print(arr[0][2:5]) # Slicing the array; getting 3 4 5 from first row\n",
    "print(arr[0][:]) # Print whole first row"
   ]
  },
  {
   "cell_type": "code",
   "execution_count": null,
   "id": "55c6c0a9",
   "metadata": {},
   "outputs": [],
   "source": []
  }
 ],
 "metadata": {
  "kernelspec": {
   "display_name": "Python 3 (ipykernel)",
   "language": "python",
   "name": "python3"
  },
  "language_info": {
   "codemirror_mode": {
    "name": "ipython",
    "version": 3
   },
   "file_extension": ".py",
   "mimetype": "text/x-python",
   "name": "python",
   "nbconvert_exporter": "python",
   "pygments_lexer": "ipython3",
   "version": "3.9.13"
  }
 },
 "nbformat": 4,
 "nbformat_minor": 5
}
