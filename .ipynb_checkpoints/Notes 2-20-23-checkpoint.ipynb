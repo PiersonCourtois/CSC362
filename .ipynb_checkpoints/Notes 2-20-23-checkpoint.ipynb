{
 "cells": [
  {
   "cell_type": "code",
   "execution_count": 4,
   "id": "2851359d",
   "metadata": {},
   "outputs": [
    {
     "name": "stdout",
     "output_type": "stream",
     "text": [
      "(4,)\n",
      "4\n",
      "[0.43429763 0.05703054 0.77074131 0.90868744]\n"
     ]
    }
   ],
   "source": [
    "import numpy as np # One data type, think array\n",
    "a = np.zeros(4) # create array of four zeros. 1 Dimension\n",
    "print(a.shape) # Shape returns number of indeces. Only 1 dimension]\n",
    "print(a.shape[0]) # Returns the number horizontal size (tuple)\n",
    "c = np.random.random_sample(4) # Four random numbers between 0-1\n",
    "print(c)"
   ]
  },
  {
   "cell_type": "code",
   "execution_count": 11,
   "id": "00cf1059",
   "metadata": {},
   "outputs": [
    {
     "name": "stdout",
     "output_type": "stream",
     "text": [
      "[3 4 5 6 7]\n",
      "x_train is: [3 4 5 6 7]\n"
     ]
    }
   ],
   "source": [
    "x_train = np.array([3, 4, 5, 6, 7]) # Create an array and populate\n",
    "print(x_train)\n",
    "print(f\"x_train is: {x_train}\") # Like printf() in c"
   ]
  },
  {
   "cell_type": "code",
   "execution_count": 17,
   "id": "3cb95dec",
   "metadata": {},
   "outputs": [
    {
     "name": "stdout",
     "output_type": "stream",
     "text": [
      "[0 1 2 3 4 5 6 7 8 9]\n",
      "9\n",
      "9\n"
     ]
    }
   ],
   "source": [
    "d = np.arange(10)\n",
    "print(d)\n",
    "print(d[-1]) # Last element: shortcut for len(d - 1)\n",
    "print(d[9]) # Last element"
   ]
  },
  {
   "cell_type": "markdown",
   "id": "2bffea18",
   "metadata": {},
   "source": [
    "# Slicing arrays\n",
    "\n",
    "### (start:end:step)"
   ]
  },
  {
   "cell_type": "code",
   "execution_count": 21,
   "id": "11c9f9ca",
   "metadata": {},
   "outputs": [
    {
     "name": "stdout",
     "output_type": "stream",
     "text": [
      "[0 2 4 6]\n",
      "[3 4 5 6 7 8 9]\n",
      "[0 1 2 3 4 5 6 7 8 9]\n"
     ]
    }
   ],
   "source": [
    "print(d[0:8:2])\n",
    "print(d[3:])\n",
    "print(d[:])"
   ]
  },
  {
   "cell_type": "code",
   "execution_count": 26,
   "id": "303ae53f",
   "metadata": {},
   "outputs": [
    {
     "name": "stdout",
     "output_type": "stream",
     "text": [
      "[2 3 4 5 6]\n",
      "[ 6  9 12 15 18]\n",
      "[-2 -3 -4 -5 -6]\n",
      "20\n",
      "4.0\n",
      "1.4142135623730951\n"
     ]
    }
   ],
   "source": [
    "vec = np.array([2, 3, 4, 5, 6]) \n",
    "newVec = 3 * vec\n",
    "print(vec) # Original vector\n",
    "print(newVec) # Vector times 3\n",
    "print(-vec) # Negative vector\n",
    "print(np.sum(vec)) # Summation of vec\n",
    "print(np.mean(vec)) # Mean of vec\n",
    "print(np.std(vec)) # Standard deviation of vce"
   ]
  },
  {
   "cell_type": "code",
   "execution_count": 30,
   "id": "e6579f3e",
   "metadata": {},
   "outputs": [
    {
     "name": "stdout",
     "output_type": "stream",
     "text": [
      "[5 7 9]\n"
     ]
    }
   ],
   "source": [
    "a = np.array([1, 2, 3]) # Arrays must be the same size\n",
    "b = np.array([4, 5, 6])\n",
    "\n",
    "c = a + b\n",
    "print(c)"
   ]
  },
  {
   "cell_type": "code",
   "execution_count": 31,
   "id": "81f1fc2b",
   "metadata": {},
   "outputs": [
    {
     "name": "stdout",
     "output_type": "stream",
     "text": [
      "[ 4 10 18]\n"
     ]
    }
   ],
   "source": [
    "c = a * b\n",
    "print(c)"
   ]
  },
  {
   "cell_type": "code",
   "execution_count": null,
   "id": "f78969ea",
   "metadata": {},
   "outputs": [],
   "source": []
  }
 ],
 "metadata": {
  "kernelspec": {
   "display_name": "Python 3 (ipykernel)",
   "language": "python",
   "name": "python3"
  },
  "language_info": {
   "codemirror_mode": {
    "name": "ipython",
    "version": 3
   },
   "file_extension": ".py",
   "mimetype": "text/x-python",
   "name": "python",
   "nbconvert_exporter": "python",
   "pygments_lexer": "ipython3",
   "version": "3.9.13"
  }
 },
 "nbformat": 4,
 "nbformat_minor": 5
}
